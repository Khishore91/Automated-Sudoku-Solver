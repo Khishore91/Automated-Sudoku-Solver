{
  "nbformat": 4,
  "nbformat_minor": 0,
  "metadata": {
    "colab": {
      "name": "sudoku_1.ipynb",
      "provenance": [],
      "collapsed_sections": []
    },
    "kernelspec": {
      "name": "python3",
      "display_name": "Python 3"
    }
  },
  "cells": [
    {
      "cell_type": "code",
      "metadata": {
        "colab": {
          "base_uri": "https://localhost:8080/"
        },
        "id": "XKRn48ctyvKU",
        "outputId": "b9f240cc-e52b-4347-d9f5-ba80d2f6f7f8"
      },
      "source": [
        "%tensorflow_version 1.x"
      ],
      "execution_count": 1,
      "outputs": [
        {
          "output_type": "stream",
          "text": [
            "TensorFlow 1.x selected.\n"
          ],
          "name": "stdout"
        }
      ]
    },
    {
      "cell_type": "code",
      "metadata": {
        "id": "SFrfV9wNirMg",
        "colab": {
          "base_uri": "https://localhost:8080/"
        },
        "outputId": "7ccf6a74-7321-4b41-94e6-1531a4b9c0d8"
      },
      "source": [
        "import cv2\n",
        "import numpy as np\n",
        "from matplotlib import pyplot as plt\n",
        "import operator\n",
        "from PIL import Image\n",
        "import tensorflow as tf\n",
        "from keras.models import model_from_json\n",
        "from skimage.segmentation import clear_border\n",
        "from matplotlib.pyplot import imshow,show\n",
        "from keras.models import load_model\n",
        "import operator\n",
        "import copy"
      ],
      "execution_count": 2,
      "outputs": [
        {
          "output_type": "stream",
          "text": [
            "Using TensorFlow backend.\n"
          ],
          "name": "stderr"
        }
      ]
    },
    {
      "cell_type": "code",
      "metadata": {
        "id": "9Q-QYXbSi-uJ"
      },
      "source": [
        "def display_rects(in_img, rects, colour=255):\n",
        "\t\"\"\"Displays rectangles on the image.\"\"\"\n",
        "\timg = in_img.copy()\n",
        "\tfor rect in rects:\n",
        "\t\timg = cv2.rectangle(img, tuple(int(x) for x in rect[0]), tuple(int(x) for x in rect[1]), colour)\n",
        "\tshow_image(img)\n",
        "\treturn img"
      ],
      "execution_count": 3,
      "outputs": []
    },
    {
      "cell_type": "code",
      "metadata": {
        "id": "QhxtMNy9jEwk"
      },
      "source": [
        "def show_image(img):\n",
        "\timshow(img,cmap = 'gray')"
      ],
      "execution_count": 4,
      "outputs": []
    },
    {
      "cell_type": "code",
      "metadata": {
        "id": "2KXYaZfwjHJo"
      },
      "source": [
        "def show_digits(digits, colour=255):\n",
        "\t\"\"\"Shows list of 81 extracted digits in a grid format\"\"\"\n",
        "\trows = []\n",
        "\twith_border = [cv2.copyMakeBorder(img.copy(), 1, 1, 1, 1, cv2.BORDER_CONSTANT, None, colour) for img in digits]\n",
        "\tfor i in range(9):\n",
        "\t\trow = np.concatenate(with_border[i * 9:((i + 1) * 9)], axis=1)\n",
        "\t\trows.append(row)\n",
        "\treturn np.concatenate(rows)"
      ],
      "execution_count": 5,
      "outputs": []
    },
    {
      "cell_type": "code",
      "metadata": {
        "id": "plnP0_DzjKNk"
      },
      "source": [
        "def pre_process_image(img, skip_dilate=False):\n",
        "\n",
        "    \"\"\"Uses a blurring function, adaptive thresholding and dilation to expose the main features of an image.\"\"\"\n",
        "\n",
        "\t# Gaussian blur with a kernal size (height, width) of 9.\n",
        "\t# Note that kernal sizes must be positive and odd and the kernel must be square.\n",
        "    proc = cv2.GaussianBlur(img.copy(), (9, 9), 0)    \n",
        "\n",
        "\t# Adaptive threshold using 11 nearest neighbour pixels\n",
        "    proc = cv2.adaptiveThreshold(proc, 255, cv2.ADAPTIVE_THRESH_GAUSSIAN_C, cv2.THRESH_BINARY, 11, 2)\n",
        "\n",
        "\t# Invert colours, so gridlines have non-zero pixel values.\n",
        "\t# Necessary to dilate the image, otherwise will look like erosion instead.\n",
        "    proc = cv2.bitwise_not(proc, proc)\n",
        "    if not skip_dilate:\n",
        "       kernel = np.array([[0., 1., 0.], [1., 1., 1.], [0., 1., 0.]],dtype=np.uint8)\n",
        "       proc = cv2.dilate(proc, kernel)\n",
        "\n",
        "    return proc"
      ],
      "execution_count": 6,
      "outputs": []
    },
    {
      "cell_type": "code",
      "metadata": {
        "id": "V830Ez3M3cbG"
      },
      "source": [
        "def cut_from_rect(img, rect):\n",
        "\t\"\"\"Cuts a rectangle from an image using the top left and bottom right points.\"\"\"\n",
        "\treturn img[int(rect[0][1]):int(rect[1][1]),int(rect[0][0]):int(rect[1][0])]\t"
      ],
      "execution_count": 7,
      "outputs": []
    },
    {
      "cell_type": "code",
      "metadata": {
        "id": "7lc4bmSDjOVy"
      },
      "source": [
        "def find_corners_of_largest_polygon(img):\n",
        "\t\"\"\"Finds the 4 extreme corners of the largest contour in the image.\"\"\"\n",
        "\tcontours, h = cv2.findContours(img.copy(), cv2.RETR_EXTERNAL, cv2.CHAIN_APPROX_SIMPLE)  # Find contours\n",
        "\tcontours = sorted(contours, key=cv2.contourArea, reverse=True)  # Sort by area, descending\n",
        "\tpolygon = contours[0]  # Largest image\n",
        "\n",
        "\t# Use of `operator.itemgetter` with `max` and `min` allows us to get the index of the point\n",
        "\t# Each point is an array of 1 coordinate, hence the [0] getter, then [0] or [1] used to get x and y respectively.\n",
        "\n",
        "\t# Bottom-right point has the largest (x + y) value\n",
        "\t# Top-left has point smallest (x + y) value\n",
        "\t# Bottom-left point has smallest (x - y) value\n",
        "\t# Top-right point has largest (x - y) value\n",
        "\tbottom_right, _ = max(enumerate([pt[0][0] + pt[0][1] for pt in polygon]), key=operator.itemgetter(1))\n",
        "\ttop_left, _ = min(enumerate([pt[0][0] + pt[0][1] for pt in polygon]), key=operator.itemgetter(1))\n",
        "\tbottom_left, _ = min(enumerate([pt[0][0] - pt[0][1] for pt in polygon]), key=operator.itemgetter(1))\n",
        "\ttop_right, _ = max(enumerate([pt[0][0] - pt[0][1] for pt in polygon]), key=operator.itemgetter(1))\n",
        "\n",
        "\t# Return an array of all 4 points using the indices\n",
        "\t# Each point is in its own array of one coordinate\n",
        "\treturn [polygon[top_left][0], polygon[top_right][0], polygon[bottom_right][0], polygon[bottom_left][0]]\n"
      ],
      "execution_count": 8,
      "outputs": []
    },
    {
      "cell_type": "code",
      "metadata": {
        "id": "mrw0KQZujR74"
      },
      "source": [
        "def distance_between(p1, p2):\n",
        "\t\"\"\"Returns the scalar distance between two points\"\"\"\n",
        "\ta = p2[0] - p1[0]\n",
        "\tb = p2[1] - p1[1]\n",
        "\treturn np.sqrt((a ** 2) + (b ** 2))"
      ],
      "execution_count": 9,
      "outputs": []
    },
    {
      "cell_type": "code",
      "metadata": {
        "id": "HGkdo_yyjUM7"
      },
      "source": [
        "def crop_and_warp(img, crop_rect):\n",
        "\t\"\"\"Crops and warps a rectangular section from an image into a square of similar size.\"\"\"\n",
        "\n",
        "\t# Rectangle described by top left, top right, bottom right and bottom left points\n",
        "\ttop_left, top_right, bottom_right, bottom_left = crop_rect[0], crop_rect[1], crop_rect[2], crop_rect[3]\n",
        "\n",
        "\t# Explicitly set the data type to float32 or `getPerspectiveTransform` will throw an error\n",
        "\tsrc = np.array([top_left, top_right, bottom_right, bottom_left], dtype='float32')\n",
        "\n",
        "\t# Get the longest side in the rectangle\n",
        "\tside = max([\n",
        "\t\tdistance_between(bottom_right, top_right),\n",
        "\t\tdistance_between(top_left, bottom_left),\n",
        "\t\tdistance_between(bottom_right, bottom_left),\n",
        "\t\tdistance_between(top_left, top_right)\n",
        "\t])\n",
        "\n",
        "\t# Describe a square with side of the calculated length, this is the new perspective we want to warp to\n",
        "\tdst = np.array([[0, 0], [side - 1, 0], [side - 1, side - 1], [0, side - 1]], dtype='float32')\n",
        "\n",
        "\t# Gets the transformation matrix for skewing the image to fit a square by comparing the 4 before and after points\n",
        "\tm = cv2.getPerspectiveTransform(src, dst)\n",
        "\n",
        "\t# Performs the transformation on the original image\n",
        "\treturn cv2.warpPerspective(img, m, (int(side), int(side)))"
      ],
      "execution_count": 10,
      "outputs": []
    },
    {
      "cell_type": "code",
      "metadata": {
        "id": "u4FJAJG0jWf2"
      },
      "source": [
        "def infer_grid(img):\n",
        "\t\"\"\"Infers 81 cell grid from a square image.\"\"\"\n",
        "\tsquares = []\n",
        "\tside = img.shape[:1]\n",
        "\tside = side[0] / 9\n",
        "\tfor j in range(9):\n",
        "\t\tfor i in range(9):\n",
        "\t\t\tp1 = (i * side, j * side)  # Top left corner of a bounding box\n",
        "\t\t\tp2 = ((i + 1) * side, (j + 1) * side)  # Bottom right corner of bounding box\n",
        "\t\t\tsquares.append((p1, p2))\n",
        "\treturn squares"
      ],
      "execution_count": 11,
      "outputs": []
    },
    {
      "cell_type": "code",
      "metadata": {
        "id": "9k_aQVGojZnJ"
      },
      "source": [
        "def scale_and_centre(img, size, margin=0, background=0):\n",
        "\t\"\"\"Scales and centres an image onto a new background square.\"\"\"\n",
        "\th, w = img.shape[:2]\n",
        "\n",
        "\tdef centre_pad(length):\n",
        "\t\t\"\"\"Handles centering for a given length that may be odd or even.\"\"\"\n",
        "\t\tif length % 2 == 0:\n",
        "\t\t\tside1 = int((size - length) / 2)\n",
        "\t\t\tside2 = side1\n",
        "\t\telse:\n",
        "\t\t\tside1 = int((size - length) / 2)\n",
        "\t\t\tside2 = side1 + 1\n",
        "\t\treturn side1, side2\n",
        "\n",
        "\tdef scale(r, x):\n",
        "\t\treturn int(r * x)\n",
        "\n",
        "\tif h > w:\n",
        "\t\tt_pad = int(margin / 2)\n",
        "\t\tb_pad = t_pad\n",
        "\t\tratio = (size - margin) / h\n",
        "\t\tw, h = scale(ratio, w), scale(ratio, h)\n",
        "\t\tl_pad, r_pad = centre_pad(w)\n",
        "\telse:\n",
        "\t\tl_pad = int(margin / 2)\n",
        "\t\tr_pad = l_pad\n",
        "\t\tratio = (size - margin) / w\n",
        "\t\tw, h = scale(ratio, w), scale(ratio, h)\n",
        "\t\tt_pad, b_pad = centre_pad(h)\n",
        "\n",
        "\timg = cv2.resize(img, (w, h))\n",
        "\timg = cv2.copyMakeBorder(img, t_pad, b_pad, l_pad, r_pad, cv2.BORDER_CONSTANT, None, background)\n",
        "\treturn cv2.resize(img, (size, size))"
      ],
      "execution_count": 12,
      "outputs": []
    },
    {
      "cell_type": "code",
      "metadata": {
        "id": "qT77dICPjc-h"
      },
      "source": [
        "def find_largest_feature(inp_img, scan_tl=None, scan_br=None):\n",
        "\t\"\"\"\n",
        "\tUses the fact the `floodFill` function returns a bounding box of the area it filled to find the biggest\n",
        "\tconnected pixel structure in the image. Fills this structure in white, reducing the rest to black.\n",
        "\t\"\"\"\n",
        "\timg = inp_img.copy()  # Copy the image, leaving the original untouched\n",
        "\theight, width = img.shape[:2]\n",
        "\n",
        "\tmax_area = 0\n",
        "\tseed_point = (None, None)\n",
        "\n",
        "\tif scan_tl is None:\n",
        "\t\tscan_tl = [0, 0]\n",
        "\n",
        "\tif scan_br is None:\n",
        "\t\tscan_br = [width, height]\n",
        "\n",
        "\t# Loop through the image\n",
        "\tfor x in range(scan_tl[0], scan_br[0]):\n",
        "\t\tfor y in range(scan_tl[1], scan_br[1]):\n",
        "\t\t\t# Only operate on light or white squares\n",
        "\t\t\tif img.item(y, x) == 255 and x < width and y < height:  # Note that .item() appears to take input as y, x\n",
        "\t\t\t\tarea = cv2.floodFill(img, None, (x, y), 64)\n",
        "\t\t\t\tif area[0] > max_area:  # Gets the maximum bound area which should be the grid\n",
        "\t\t\t\t\tmax_area = area[0]\n",
        "\t\t\t\t\tseed_point = (x, y)\n",
        "\n",
        "\t# Colour everything grey (compensates for features outside of our middle scanning range\n",
        "\tfor x in range(width):\n",
        "\t\tfor y in range(height):\n",
        "\t\t\tif img.item(y, x) == 255 and x < width and y < height:\n",
        "\t\t\t\tcv2.floodFill(img, None, (x, y), 64)\n",
        "\n",
        "\tmask = np.zeros((height + 2, width + 2), np.uint8)  # Mask that is 2 pixels bigger than the image\n",
        "\n",
        "\t# Highlight the main feature\n",
        "\tif all([p is not None for p in seed_point]):\n",
        "\t\tcv2.floodFill(img, mask, seed_point, 255)\n",
        "\n",
        "\ttop, bottom, left, right = height, 0, width, 0\n",
        "\n",
        "\tfor x in range(width):\n",
        "\t\tfor y in range(height):\n",
        "\t\t\tif img.item(y, x) == 64:  # Hide anything that isn't the main feature\n",
        "\t\t\t\tcv2.floodFill(img, mask, (x, y), 0)\n",
        "\n",
        "\t\t\t# Find the bounding parameters\n",
        "\t\t\tif img.item(y, x) == 255:\n",
        "\t\t\t\ttop = y if y < top else top\n",
        "\t\t\t\tbottom = y if y > bottom else bottom\n",
        "\t\t\t\tleft = x if x < left else left\n",
        "\t\t\t\tright = x if x > right else right\n",
        "\n",
        "\tbbox = [[left, top], [right, bottom]]\n",
        "\treturn img, np.array(bbox, dtype='float32'), seed_point"
      ],
      "execution_count": 13,
      "outputs": []
    },
    {
      "cell_type": "code",
      "metadata": {
        "id": "kL4lXTu9jifR"
      },
      "source": [
        "def get_digits(img, squares, size):\n",
        "\t\"\"\"Extracts digits from their cells and builds an array\"\"\"\n",
        "\tdigits = []\n",
        "\timg = pre_process_image(img.copy(), skip_dilate=True)\n",
        "\tfor square in squares:\n",
        "\t\tdigits.append(extract_digit(img, square, size))\n",
        "\treturn digits"
      ],
      "execution_count": 14,
      "outputs": []
    },
    {
      "cell_type": "code",
      "metadata": {
        "id": "BK-FOTPTjfzc"
      },
      "source": [
        "def extract_digit(img, rect, size):\n",
        "\t\"\"\"Extracts a digit (if one exists) from a Sudoku square.\"\"\"\n",
        "\n",
        "\tdigit = cut_from_rect(img, rect)  # Get the digit box from the whole square\n",
        "\n",
        "\t# Use fill feature finding to get the largest feature in middle of the box\n",
        "\t# Margin used to define an area in the middle we would expect to find a pixel belonging to the digit\n",
        "\th, w = digit.shape[:2]\n",
        "\tmargin = int(np.mean([h, w]) / 2.5)\n",
        "\t_, bbox, seed = find_largest_feature(digit, [margin, margin], [w - margin, h - margin])\n",
        "\tdigit = cut_from_rect(digit, bbox)\n",
        "\n",
        "\t# Scale and pad the digit so that it fits a square of the digit size we're using for machine learning\n",
        "\tw = bbox[1][0] - bbox[0][0]\n",
        "\th = bbox[1][1] - bbox[0][1]\n",
        "\n",
        "\t# Ignore any small bounding boxes\n",
        "\tif w > 0 and h > 0 and (w * h) > 100 and len(digit) > 0:\n",
        "\t\treturn scale_and_centre(digit, size, 4)\n",
        "\telse:\n",
        "\t\treturn np.zeros((size, size), np.uint8)"
      ],
      "execution_count": 15,
      "outputs": []
    },
    {
      "cell_type": "code",
      "metadata": {
        "id": "82Izck0jbaZb"
      },
      "source": [
        "def getEveryDigits(img,squares):\n",
        "    labels = []\n",
        "    model = tf.keras.models.load_model('/content/drive/My Drive/Project/Sudoku/models/digit_classifier.h5')\n",
        "    img2 = cv2.medianBlur(img.copy(),5)\n",
        "    img2 = cv2.adaptiveThreshold(img2,255,cv2.ADAPTIVE_THRESH_MEAN_C,\\\n",
        "            cv2.THRESH_BINARY,11,2)\n",
        "\n",
        "    img2 = cv2.bitwise_not(img2, img2)\n",
        "    for square in squares:\n",
        "        digit = extract_digit(img2, square, 28)\n",
        "        '''imshow(digit,cmap = 'gray')\n",
        "        show()'''\n",
        "        \n",
        "        numPixels = cv2.countNonZero(digit)\n",
        "        if numPixels<80:\n",
        "            labels.append(0)\n",
        "        else:    \n",
        "            labels.append(model.predict_classes(digit.reshape(-1,28,28,1))[0])\n",
        "    return matrix_convert(labels)"
      ],
      "execution_count": 16,
      "outputs": []
    },
    {
      "cell_type": "code",
      "metadata": {
        "id": "G7z1TUugjoQL"
      },
      "source": [
        "def matrix_convert(label):\n",
        "    a=0\n",
        "    matrix=[]\n",
        "    for i in range(0,9):\n",
        "        matrix.append(label[a:a+9])\n",
        "        a=a+9\n",
        "    for i in range(0,9):\n",
        "        print(matrix[i])\n",
        "    return matrix"
      ],
      "execution_count": 17,
      "outputs": []
    },
    {
      "cell_type": "code",
      "metadata": {
        "id": "Tw7XNpb6k_z-"
      },
      "source": [
        "def checkGrid(grid):\n",
        "  for row in range(0,9):\n",
        "      for col in range(0,9):\n",
        "        if grid[row][col]==0:\n",
        "          return False\n",
        "  return True"
      ],
      "execution_count": 18,
      "outputs": []
    },
    {
      "cell_type": "code",
      "metadata": {
        "id": "RpRaiMpsiZJj"
      },
      "source": [
        "#Backtracking algorithm\n",
        "def solveGrid(grid):\n",
        "\n",
        "  for i in range(0,81):\n",
        "    row=int(i/9)\n",
        "    col=int(i%9)\n",
        "    if grid[row][col]==0:\n",
        "      for value in range (1,10):\n",
        "        if not(value in grid[row]):\n",
        "          if not value in (grid[0][col],grid[1][col],grid[2][col],grid[3][col],grid[4][col],grid[5][col],grid[6][col],grid[7][col],grid[8][col]):\n",
        "            square=[]\n",
        "            if row<3:\n",
        "              if col<3:\n",
        "                square=[grid[i][0:3] for i in range(0,3)]\n",
        "              elif col<6:\n",
        "                square=[grid[i][3:6] for i in range(0,3)]\n",
        "              else:\n",
        "                square=[grid[i][6:9] for i in range(0,3)]\n",
        "            elif row<6:\n",
        "              if col<3:\n",
        "                square=[grid[i][0:3] for i in range(3,6)]\n",
        "              elif col<6:\n",
        "                square=[grid[i][3:6] for i in range(3,6)]\n",
        "              else:\n",
        "                square=[grid[i][6:9] for i in range(3,6)]\n",
        "            else:\n",
        "              if col<3:\n",
        "                square=[grid[i][0:3] for i in range(6,9)]\n",
        "              elif col<6:\n",
        "                square=[grid[i][3:6] for i in range(6,9)]\n",
        "              else:\n",
        "                square=[grid[i][6:9] for i in range(6,9)]\n",
        "            if not value in (square[0] + square[1] + square[2]):\n",
        "              grid[row][col]=value\n",
        "              if checkGrid(grid):\n",
        "                print(\"Sudoku Result\")\n",
        "                for i in range(0,9):\n",
        "                      print(grid[i])\n",
        "                print(\"CHECK CONTROL \")\n",
        "                return grid\n",
        "              else:\n",
        "                  if solveGrid(grid):\n",
        "                    return grid\n",
        "      break\n",
        "  grid[row][col]=0"
      ],
      "execution_count": 19,
      "outputs": []
    },
    {
      "cell_type": "code",
      "metadata": {
        "id": "8MoEN4NfmYfA"
      },
      "source": [
        "def writeImg(solved,old,img,squares):\n",
        "    font  = cv2.FONT_HERSHEY_SIMPLEX\n",
        "    fontScale = 1\n",
        "    color  = ( 0, 0, 255)\n",
        "    org = (50, 50)\n",
        "    thickness = 2\n",
        "    img2 = cv2.medianBlur(img.copy(),5)\n",
        "    img2 = cv2.adaptiveThreshold(img2,255,cv2.ADAPTIVE_THRESH_MEAN_C,\\\n",
        "            cv2.THRESH_BINARY,11,2)\n",
        "\n",
        "    img2 = cv2.bitwise_not(img2, img2)\n",
        "    for square in squares:\n",
        "        write_digit = extract_digit(img2, square, 28)\n",
        "        numPixels = cv2.countNonZero(write_digit)\n",
        "        tp = (int(square[0][0]+20),int(square[0][1]+40))\n",
        "        if numPixels<80:        \n",
        "            cv2.putText(img,str(solved[int(square[0][1]/62.333333333333336)][int(square[0][0]/62.333333333333336)]),tp, font,  fontScale,color, thickness, cv2.LINE_AA)\n",
        "    return img       "
      ],
      "execution_count": 20,
      "outputs": []
    },
    {
      "cell_type": "code",
      "metadata": {
        "id": "8eLH_KdPXcTD"
      },
      "source": [
        "img = cv2.imread('/content/drive/MyDrive/Project/Sudoku/sudoku.png', cv2.IMREAD_GRAYSCALE)"
      ],
      "execution_count": 21,
      "outputs": []
    },
    {
      "cell_type": "code",
      "metadata": {
        "colab": {
          "base_uri": "https://localhost:8080/",
          "height": 269
        },
        "id": "cXUuXlw8Xj0Q",
        "outputId": "d450cc24-86aa-4b90-ae94-5f7a439b7bf5"
      },
      "source": [
        "processed = pre_process_image(img)\n",
        "show_image(processed)"
      ],
      "execution_count": 22,
      "outputs": [
        {
          "output_type": "display_data",
          "data": {
            "image/png": "[encoded data removed]",
            "text/plain": [
              "<Figure size 432x288 with 1 Axes>"
            ]
          },
          "metadata": {
            "tags": [],
            "needs_background": "light"
          }
        }
      ]
    },
    {
      "cell_type": "code",
      "metadata": {
        "id": "DkajYujxqID9"
      },
      "source": [
        "corners = find_corners_of_largest_polygon(processed)"
      ],
      "execution_count": 23,
      "outputs": []
    },
    {
      "cell_type": "code",
      "metadata": {
        "colab": {
          "base_uri": "https://localhost:8080/",
          "height": 269
        },
        "id": "mi4NuCJMqJcF",
        "outputId": "8fcfdf61-d5e3-4cef-bd23-9a54965f7c61"
      },
      "source": [
        "cropped = crop_and_warp(img, corners)\n",
        "squares = infer_grid(cropped)\n",
        "show_image(cropped)"
      ],
      "execution_count": 24,
      "outputs": [
        {
          "output_type": "display_data",
          "data": {
            "image/png": "[encoded data removed]",
            "text/plain": [
              "<Figure size 432x288 with 1 Axes>"
            ]
          },
          "metadata": {
            "tags": [],
            "needs_background": "light"
          }
        }
      ]
    },
    {
      "cell_type": "code",
      "metadata": {
        "colab": {
          "base_uri": "https://localhost:8080/"
        },
        "id": "m5Tzh0Z2lti3",
        "outputId": "64db0db5-bfcc-4004-c273-1bfa9d669def"
      },
      "source": [
        "digits = getEveryDigits(cropped, squares)"
      ],
      "execution_count": 25,
      "outputs": [
        {
          "output_type": "stream",
          "text": [
            "WARNING:tensorflow:From /tensorflow-1.15.2/python3.6/tensorflow_core/python/ops/resource_variable_ops.py:1630: calling BaseResourceVariable.__init__ (from tensorflow.python.ops.resource_variable_ops) with constraint is deprecated and will be removed in a future version.\n",
            "Instructions for updating:\n",
            "If using Keras pass *_constraint arguments to layers.\n",
            "[4, 7, 9, 0, 0, 0, 2, 0, 8]\n",
            "[0, 0, 5, 0, 7, 0, 0, 0, 0]\n",
            "[6, 0, 0, 0, 0, 0, 0, 0, 1]\n",
            "[0, 2, 0, 0, 9, 3, 7, 0, 0]\n",
            "[0, 9, 4, 2, 8, 0, 1, 3, 5]\n",
            "[0, 0, 0, 0, 4, 0, 0, 0, 0]\n",
            "[0, 4, 0, 9, 1, 0, 0, 0, 0]\n",
            "[8, 0, 0, 3, 0, 4, 0, 1, 7]\n",
            "[0, 0, 1, 0, 0, 7, 4, 5, 0]\n"
          ],
          "name": "stdout"
        }
      ]
    },
    {
      "cell_type": "code",
      "metadata": {
        "colab": {
          "base_uri": "https://localhost:8080/"
        },
        "id": "qc8VyZHFkTI9",
        "outputId": "f5d55c7a-1c15-48e7-db6d-015d9b55e7f6"
      },
      "source": [
        "solved = solveGrid(copy.deepcopy(digits))"
      ],
      "execution_count": 26,
      "outputs": [
        {
          "output_type": "stream",
          "text": [
            "Sudoku Result\n",
            "[4, 7, 9, 1, 3, 5, 2, 6, 8]\n",
            "[2, 1, 5, 6, 7, 8, 3, 9, 4]\n",
            "[6, 8, 3, 4, 2, 9, 5, 7, 1]\n",
            "[1, 2, 8, 5, 9, 3, 7, 4, 6]\n",
            "[7, 9, 4, 2, 8, 6, 1, 3, 5]\n",
            "[3, 5, 6, 7, 4, 1, 8, 2, 9]\n",
            "[5, 4, 7, 9, 1, 2, 6, 8, 3]\n",
            "[8, 6, 2, 3, 5, 4, 9, 1, 7]\n",
            "[9, 3, 1, 8, 6, 7, 4, 5, 2]\n",
            "CHECK CONTROL \n"
          ],
          "name": "stdout"
        }
      ]
    },
    {
      "cell_type": "code",
      "metadata": {
        "colab": {
          "base_uri": "https://localhost:8080/",
          "height": 269
        },
        "id": "cMwBQwyFkkch",
        "outputId": "0a80401f-8fa5-49f4-ef6e-77a0a4c8840a"
      },
      "source": [
        "result = writeImg(solved,digits,cropped,squares)\n",
        "show_image(result)"
      ],
      "execution_count": 27,
      "outputs": [
        {
          "output_type": "display_data",
          "data": {
            "image/png": "[encoded data removed]",
            "text/plain": [
              "<Figure size 432x288 with 1 Axes>"
            ]
          },
          "metadata": {
            "tags": [],
            "needs_background": "light"
          }
        }
      ]
    },
    {
      "cell_type": "code",
      "metadata": {
        "id": "tXS7Hz0NjoMC"
      },
      "source": [
        ""
      ],
      "execution_count": 27,
      "outputs": []
    }
  ]
}